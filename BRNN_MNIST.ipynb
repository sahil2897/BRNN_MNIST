{
 "cells": [
  {
   "cell_type": "code",
   "execution_count": 68,
   "metadata": {},
   "outputs": [],
   "source": [
    "import numpy as np\n",
    "import matplotlib.pyplot as plt\n",
    "import tensorflow as tf\n",
    "\n",
    "import os\n",
    "import sys\n",
    "from keras.layers import Dense, Input, GlobalMaxPooling1D, Bidirectional\n",
    "from keras.layers import Conv1D, MaxPooling1D, Embedding, LSTM, Lambda, Concatenate\n",
    "from keras.models import Model"
   ]
  },
  {
   "cell_type": "code",
   "execution_count": 69,
   "metadata": {},
   "outputs": [],
   "source": [
    "from keras.datasets import mnist\n",
    "import keras.backend as k"
   ]
  },
  {
   "cell_type": "code",
   "execution_count": 70,
   "metadata": {},
   "outputs": [],
   "source": [
    "(x_train, y_train), (x_test, y_test) = mnist.load_data()"
   ]
  },
  {
   "cell_type": "code",
   "execution_count": 71,
   "metadata": {},
   "outputs": [],
   "source": [
    "# x_train = x_train.reshape(x_train.shape[0],28,28,1)\n",
    "# x_test = x_test.reshape(x_test.shape[0],28,28,1)\n",
    "x_train = x_train.astype('float32')\n",
    "x_test = x_test.astype('float32')\n",
    "x_train/=255.0\n",
    "x_test/=255.0"
   ]
  },
  {
   "cell_type": "code",
   "execution_count": 72,
   "metadata": {},
   "outputs": [],
   "source": [
    "input_layer = Input(shape=(28,28))\n",
    "rnn1 = Bidirectional(LSTM(15, return_sequences=True))\n",
    "x1 = rnn1(input_layer)\n",
    "x1 = GlobalMaxPooling1D()(x1)"
   ]
  },
  {
   "cell_type": "code",
   "execution_count": 73,
   "metadata": {},
   "outputs": [],
   "source": [
    "rnn2 = Bidirectional(LSTM(15, return_sequences=True))\n",
    "permutor = Lambda(lambda t:k.permute_dimensions(t, pattern=(0,2,1)))\n",
    "x2 = permutor(input_layer)\n",
    "x2 = rnn2(x2)\n",
    "x2 = GlobalMaxPooling1D()(x2)"
   ]
  },
  {
   "cell_type": "code",
   "execution_count": 74,
   "metadata": {},
   "outputs": [],
   "source": [
    "concatenator = Concatenate(axis=1)\n",
    "x = concatenator([x1,x2])"
   ]
  },
  {
   "cell_type": "code",
   "execution_count": 75,
   "metadata": {},
   "outputs": [],
   "source": [
    "output = Dense(10,activation='softmax')(x)"
   ]
  },
  {
   "cell_type": "code",
   "execution_count": 76,
   "metadata": {},
   "outputs": [],
   "source": [
    "model = Model(inputs=input_layer,outputs=output)"
   ]
  },
  {
   "cell_type": "code",
   "execution_count": 77,
   "metadata": {},
   "outputs": [
    {
     "name": "stderr",
     "output_type": "stream",
     "text": [
      "W0806 13:28:47.022634 19336 deprecation_wrapper.py:119] From C:\\ProgramData\\Anaconda3\\lib\\site-packages\\keras\\optimizers.py:790: The name tf.train.Optimizer is deprecated. Please use tf.compat.v1.train.Optimizer instead.\n",
      "\n"
     ]
    }
   ],
   "source": [
    "model.compile('adam','sparse_categorical_crossentropy',metrics=['accuracy'])"
   ]
  },
  {
   "cell_type": "code",
   "execution_count": 78,
   "metadata": {},
   "outputs": [
    {
     "name": "stderr",
     "output_type": "stream",
     "text": [
      "W0806 13:29:35.918016 19336 deprecation.py:323] From C:\\ProgramData\\Anaconda3\\lib\\site-packages\\tensorflow\\python\\ops\\math_grad.py:1250: add_dispatch_support.<locals>.wrapper (from tensorflow.python.ops.array_ops) is deprecated and will be removed in a future version.\n",
      "Instructions for updating:\n",
      "Use tf.where in 2.0, which has the same broadcast rule as np.where\n"
     ]
    },
    {
     "name": "stdout",
     "output_type": "stream",
     "text": [
      "Train on 42000 samples, validate on 18000 samples\n",
      "Epoch 1/10\n",
      "42000/42000 [==============================] - 57s 1ms/step - loss: 0.6157 - acc: 0.8418 - val_loss: 0.2384 - val_acc: 0.9352\n",
      "Epoch 2/10\n",
      "42000/42000 [==============================] - 52s 1ms/step - loss: 0.1983 - acc: 0.9442 - val_loss: 0.1729 - val_acc: 0.9493\n",
      "Epoch 3/10\n",
      "42000/42000 [==============================] - 57s 1ms/step - loss: 0.1491 - acc: 0.9559 - val_loss: 0.1311 - val_acc: 0.9612\n",
      "Epoch 4/10\n",
      "42000/42000 [==============================] - 57s 1ms/step - loss: 0.1224 - acc: 0.9639 - val_loss: 0.1286 - val_acc: 0.9616\n",
      "Epoch 5/10\n",
      "42000/42000 [==============================] - 58s 1ms/step - loss: 0.1047 - acc: 0.9695 - val_loss: 0.1074 - val_acc: 0.9674\n",
      "Epoch 6/10\n",
      "42000/42000 [==============================] - 59s 1ms/step - loss: 0.0913 - acc: 0.9726 - val_loss: 0.1023 - val_acc: 0.9689\n",
      "Epoch 7/10\n",
      "42000/42000 [==============================] - 62s 1ms/step - loss: 0.0833 - acc: 0.9753 - val_loss: 0.0963 - val_acc: 0.9716\n",
      "Epoch 8/10\n",
      "42000/42000 [==============================] - 57s 1ms/step - loss: 0.0740 - acc: 0.9786 - val_loss: 0.0878 - val_acc: 0.9734\n",
      "Epoch 9/10\n",
      "42000/42000 [==============================] - 58s 1ms/step - loss: 0.0675 - acc: 0.9798 - val_loss: 0.0876 - val_acc: 0.9746\n",
      "Epoch 10/10\n",
      "42000/42000 [==============================] - 58s 1ms/step - loss: 0.0613 - acc: 0.9817 - val_loss: 0.0827 - val_acc: 0.9756\n"
     ]
    }
   ],
   "source": [
    "r = model.fit(x_train,y_train, batch_size=32,epochs=10,validation_split=0.3)"
   ]
  },
  {
   "cell_type": "code",
   "execution_count": 79,
   "metadata": {},
   "outputs": [
    {
     "data": {
      "image/png": "[encoded data removed]",
      "text/plain": [
       "<Figure size 432x288 with 1 Axes>"
      ]
     },
     "metadata": {
      "needs_background": "light"
     },
     "output_type": "display_data"
    }
   ],
   "source": [
    "plt.plot(r.history['loss'],label='loss')\n",
    "plt.plot(r.history['val_loss'],label='val_loss')\n",
    "plt.legend()\n",
    "plt.show()"
   ]
  },
  {
   "cell_type": "code",
   "execution_count": 80,
   "metadata": {},
   "outputs": [
    {
     "data": {
      "image/png": "[encoded data removed]",
      "text/plain": [
       "<Figure size 432x288 with 1 Axes>"
      ]
     },
     "metadata": {
      "needs_background": "light"
     },
     "output_type": "display_data"
    }
   ],
   "source": [
    "plt.plot(r.history['acc'],label='accuracy')\n",
    "plt.plot(r.history['val_acc'],label='val_accuracy')\n",
    "plt.legend()\n",
    "plt.show()"
   ]
  },
  {
   "cell_type": "code",
   "execution_count": 82,
   "metadata": {},
   "outputs": [
    {
     "name": "stdout",
     "output_type": "stream",
     "text": [
      "10000/10000 [==============================] - 3s 266us/step\n"
     ]
    },
    {
     "data": {
      "text/plain": [
       "[0.07546572196166962, 0.9753]"
      ]
     },
     "execution_count": 82,
     "metadata": {},
     "output_type": "execute_result"
    }
   ],
   "source": [
    "model.evaluate(x_test,y_test)"
   ]
  },
  {
   "cell_type": "code",
   "execution_count": null,
   "metadata": {},
   "outputs": [],
   "source": []
  }
 ],
 "metadata": {
  "kernelspec": {
   "display_name": "Python 3",
   "language": "python",
   "name": "python3"
  },
  "language_info": {
   "codemirror_mode": {
    "name": "ipython",
    "version": 3
   },
   "file_extension": ".py",
   "mimetype": "text/x-python",
   "name": "python",
   "nbconvert_exporter": "python",
   "pygments_lexer": "ipython3",
   "version": "3.7.3"
  }
 },
 "nbformat": 4,
 "nbformat_minor": 2
}
